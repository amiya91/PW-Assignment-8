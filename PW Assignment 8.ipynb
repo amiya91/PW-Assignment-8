{
 "cells": [
  {
   "cell_type": "raw",
   "id": "2ab024bb-1a85-47a2-a316-7e05db8f6532",
   "metadata": {},
   "source": [
    "1) What is an exception in python? Write the difference between Exceptions and syntax errors. "
   ]
  },
  {
   "cell_type": "raw",
   "id": "1eb1ea80-889a-4225-9510-9d82f4c35f78",
   "metadata": {},
   "source": [
    ">>> In Python, an exception is an error that occurs during the execution of a program. It is a signal that something unexpected or abnormal has happened, and the program cannot proceed as intended. Exceptions occur when something unexpected happens while the program is running. It could be due to various reasons, such as dividing a number by zero, trying to access a file that doesn't exist, or providing invalid input to a function.\n",
    "\n",
    ">>> On the other hand, syntax errors are different from exceptions. They occur when you make mistakes in the structure or syntax of your Python code. For example, if you forget to put a colon at the end of an if statement or misspell a keyword, Python will raise a syntax error.\n",
    "\n",
    ">>> The main difference between exceptions and syntax errors is that exceptions happen while the program is running and can be caused by unforeseen situations, while syntax errors occur before the program starts running and are caused by mistakes in the code's structure."
   ]
  },
  {
   "cell_type": "raw",
   "id": "b31fa881-741f-4ab5-adf9-8cadd1c33d24",
   "metadata": {},
   "source": [
    "2)  What happens when an exception is not handled? Explain with an example."
   ]
  },
  {
   "cell_type": "raw",
   "id": "9180f79b-d9f0-4ad2-80f7-1d92a0083f60",
   "metadata": {},
   "source": [
    ">>> When an exception is not handled in a program, it means that the program doesn't know how to deal with the error or what to do next. Instead of gracefully recovering from the issue, the program will typically stop running and display an error message to the user."
   ]
  },
  {
   "cell_type": "code",
   "execution_count": 8,
   "id": "cf0add0a-98e2-43e8-8ac5-152fe6019b9b",
   "metadata": {},
   "outputs": [
    {
     "name": "stdin",
     "output_type": "stream",
     "text": [
      "Enter the first number:  10\n",
      "Enter the second number:  0\n"
     ]
    },
    {
     "ename": "ZeroDivisionError",
     "evalue": "division by zero",
     "output_type": "error",
     "traceback": [
      "\u001b[0;31m---------------------------------------------------------------------------\u001b[0m",
      "\u001b[0;31mZeroDivisionError\u001b[0m                         Traceback (most recent call last)",
      "Cell \u001b[0;32mIn[8], line 6\u001b[0m\n\u001b[1;32m      3\u001b[0m num1 \u001b[38;5;241m=\u001b[39m \u001b[38;5;28mint\u001b[39m(\u001b[38;5;28minput\u001b[39m(\u001b[38;5;124m\"\u001b[39m\u001b[38;5;124mEnter the first number: \u001b[39m\u001b[38;5;124m\"\u001b[39m))\n\u001b[1;32m      4\u001b[0m num2 \u001b[38;5;241m=\u001b[39m \u001b[38;5;28mint\u001b[39m(\u001b[38;5;28minput\u001b[39m(\u001b[38;5;124m\"\u001b[39m\u001b[38;5;124mEnter the second number: \u001b[39m\u001b[38;5;124m\"\u001b[39m))\n\u001b[0;32m----> 6\u001b[0m result \u001b[38;5;241m=\u001b[39m \u001b[43mnum1\u001b[49m\u001b[43m \u001b[49m\u001b[38;5;241;43m/\u001b[39;49m\u001b[43m \u001b[49m\u001b[43mnum2\u001b[49m\n\u001b[1;32m      8\u001b[0m \u001b[38;5;28mprint\u001b[39m(\u001b[38;5;124m\"\u001b[39m\u001b[38;5;124mThe result of the division is:\u001b[39m\u001b[38;5;124m\"\u001b[39m, result)\n",
      "\u001b[0;31mZeroDivisionError\u001b[0m: division by zero"
     ]
    }
   ],
   "source": [
    "# A program that asks the user to enter two numbers and then divides the first number by the second. \n",
    "# However, if the second number is zero, it will cause an exception because division by zero is not possible.\n",
    "num1 = int(input(\"Enter the first number: \"))\n",
    "num2 = int(input(\"Enter the second number: \"))\n",
    "\n",
    "result = num1 / num2\n",
    "\n",
    "print(\"The result of the division is:\", result)"
   ]
  },
  {
   "cell_type": "code",
   "execution_count": 7,
   "id": "af9ea69d-cab5-418a-9d98-7b90d8a4157c",
   "metadata": {},
   "outputs": [
    {
     "name": "stdin",
     "output_type": "stream",
     "text": [
      "Enter the first number:  10\n",
      "Enter the second number:  0\n"
     ]
    },
    {
     "name": "stdout",
     "output_type": "stream",
     "text": [
      "Oops! Division by zero is not allowed.\n"
     ]
    }
   ],
   "source": [
    "num1 = int(input(\"Enter the first number: \"))\n",
    "num2 = int(input(\"Enter the second number: \"))\n",
    "\n",
    "try:\n",
    "    result = num1 / num2\n",
    "    print(\"The result of the division is:\", result)\n",
    "    \n",
    "except ZeroDivisionError:\n",
    "    print(\"Oops! Division by zero is not allowed.\")"
   ]
  },
  {
   "cell_type": "raw",
   "id": "a4fb7d25-3de6-4c48-af9d-9dd3440decb1",
   "metadata": {},
   "source": [
    "3) Which Python statements are used to catch and handle exceptions? Explain with an example."
   ]
  },
  {
   "cell_type": "raw",
   "id": "1a8cc320-05ab-43ae-a48e-d5938637203b",
   "metadata": {},
   "source": [
    ">>> In Python, we use the \"try-except\" statements to catch and handle exceptions. Think of these statements as a safety net that allows us to anticipate potential errors and respond to them without the program crashing."
   ]
  },
  {
   "cell_type": "code",
   "execution_count": 23,
   "id": "82d9fce0-9631-4162-9b5a-968296b226e1",
   "metadata": {},
   "outputs": [
    {
     "name": "stdin",
     "output_type": "stream",
     "text": [
      "Enter your age:  0.99\n"
     ]
    },
    {
     "name": "stdout",
     "output_type": "stream",
     "text": [
      "Oops! You entered an invalid age.\n"
     ]
    }
   ],
   "source": [
    "current_year = 2023\n",
    "\n",
    "try:\n",
    "    age = int(input(\"Enter your age: \"))\n",
    "    birth_year = current_year - age\n",
    "    print(\"You were born in the year\", birth_year)\n",
    "    \n",
    "except ValueError:\n",
    "    print(\"Oops! You entered an invalid age.\")"
   ]
  },
  {
   "cell_type": "raw",
   "id": "0403d026-0e32-4b14-84ce-6074bd9d2c32",
   "metadata": {},
   "source": [
    "4) Explain with an example:\n",
    "    > try and else\n",
    "    > finally\n",
    "    > raise"
   ]
  },
  {
   "cell_type": "raw",
   "id": "52567cf5-c774-4c89-aa83-ae4f67419b88",
   "metadata": {},
   "source": [
    ">>> try and else: The try and else statements are used together to handle exceptions and execute code when no exceptions occur. The code inside the try block is monitored for any exceptions, and if an exception occurs, it is caught and handled. If no exceptions occur, the code inside the else block is executed.\n",
    "\n",
    ">>> finally: The finally statement is used to specify a block of code that will be executed regardless of whether an exception occurs or not. It is commonly used to perform cleanup actions or release resources.\n",
    "\n",
    ">>> raise: The raise statement is used to explicitly raise exceptions in Python. It allows us to create custom exceptions or raise built-in exceptions when a specific condition occurs."
   ]
  },
  {
   "cell_type": "code",
   "execution_count": 26,
   "id": "3fb1bfa9-be17-4e49-8f90-368a6b68986c",
   "metadata": {},
   "outputs": [
    {
     "name": "stdin",
     "output_type": "stream",
     "text": [
      "Enter the first number:  20\n",
      "Enter the second number:  a\n"
     ]
    },
    {
     "name": "stdout",
     "output_type": "stream",
     "text": [
      "Invalid input. Please enter valid numbers.\n"
     ]
    }
   ],
   "source": [
    "# try and else\n",
    "\n",
    "try:\n",
    "    num1 = int(input(\"Enter the first number: \"))\n",
    "    num2 = int(input(\"Enter the second number: \"))\n",
    "    result = num1 / num2\n",
    "except ValueError:\n",
    "    print(\"Invalid input. Please enter valid numbers.\")\n",
    "else:\n",
    "    print(\"The result of the division is:\", result)"
   ]
  },
  {
   "cell_type": "code",
   "execution_count": 34,
   "id": "2d972ac8-373e-4ae9-8a73-9ff0d6146ee8",
   "metadata": {},
   "outputs": [
    {
     "name": "stdout",
     "output_type": "stream",
     "text": [
      "File not found.\n"
     ]
    }
   ],
   "source": [
    "# finally\n",
    "\n",
    "file = None\n",
    "\n",
    "try:\n",
    "    file = open(\"example.txt\", \"r\")\n",
    "    content = file.read()\n",
    "    print(content)\n",
    "    \n",
    "except FileNotFoundError:\n",
    "    print(\"File not found.\")\n",
    "    \n",
    "finally:\n",
    "    if file is not None:\n",
    "        file.close()"
   ]
  },
  {
   "cell_type": "code",
   "execution_count": 36,
   "id": "c1a52934-bf4c-43e6-bdf7-d66fd7751995",
   "metadata": {},
   "outputs": [
    {
     "name": "stdin",
     "output_type": "stream",
     "text": [
      "Enter your age:  -32\n"
     ]
    },
    {
     "name": "stdout",
     "output_type": "stream",
     "text": [
      "Invalid age: Age cannot be negative.\n"
     ]
    }
   ],
   "source": [
    "# raise\n",
    "\n",
    "def validate_age(age):\n",
    "    if age < 0:\n",
    "        raise ValueError(\"Age cannot be negative.\")\n",
    "\n",
    "try:\n",
    "    user_age = int(input(\"Enter your age: \"))\n",
    "    validate_age(user_age)\n",
    "    print(\"Valid age entered!\")\n",
    "    \n",
    "except ValueError as e:\n",
    "    print(\"Invalid age:\", str(e))"
   ]
  },
  {
   "cell_type": "raw",
   "id": "69a49cf3-2634-4d9b-9801-db103cd6b797",
   "metadata": {},
   "source": [
    "5) What are Custom Exceptions in Python? Why do we need custom exceptions? Explain with an example."
   ]
  },
  {
   "cell_type": "raw",
   "id": "476da3d2-2c12-4580-af8b-227aa19002c2",
   "metadata": {},
   "source": [
    ">>> Custom exceptions in Python allow us to create our own types of exceptions that are specific to your program or application. It's like designing a unique error message or warning that helps us communicate specific problems or conditions to ourselves or other programmers."
   ]
  },
  {
   "cell_type": "raw",
   "id": "6107f751-7270-458d-b551-88abb5890353",
   "metadata": {},
   "source": [
    "6) Create a custom exception class. Use this class to handle and exception."
   ]
  },
  {
   "cell_type": "code",
   "execution_count": 43,
   "id": "2f86407a-e24a-4491-824e-2f4c9e6b8cf7",
   "metadata": {},
   "outputs": [
    {
     "name": "stdin",
     "output_type": "stream",
     "text": [
      "Enter your age:  -20\n"
     ]
    },
    {
     "name": "stdout",
     "output_type": "stream",
     "text": [
      "Error: Invalid age. Age cannot be negative.\n"
     ]
    }
   ],
   "source": [
    "class CustomException(Exception):\n",
    "    def __init__(self, message):\n",
    "        super().__init__(message)\n",
    "\n",
    "try:\n",
    "    age = int(input(\"Enter your age: \"))\n",
    "    if age < 0:\n",
    "        raise CustomException(\"Invalid age. Age cannot be negative.\")\n",
    "    else:\n",
    "        print(\"Valid age entered!\")\n",
    "except CustomException as e:\n",
    "    print(\"Error:\", str(e))"
   ]
  },
  {
   "cell_type": "code",
   "execution_count": null,
   "id": "81bfed89-fe49-4fef-9e4b-bacce317caa3",
   "metadata": {},
   "outputs": [],
   "source": []
  }
 ],
 "metadata": {
  "kernelspec": {
   "display_name": "Python 3 (ipykernel)",
   "language": "python",
   "name": "python3"
  },
  "language_info": {
   "codemirror_mode": {
    "name": "ipython",
    "version": 3
   },
   "file_extension": ".py",
   "mimetype": "text/x-python",
   "name": "python",
   "nbconvert_exporter": "python",
   "pygments_lexer": "ipython3",
   "version": "3.10.8"
  },
  "toc-autonumbering": true,
  "toc-showcode": true,
  "toc-showmarkdowntxt": true
 },
 "nbformat": 4,
 "nbformat_minor": 5
}
